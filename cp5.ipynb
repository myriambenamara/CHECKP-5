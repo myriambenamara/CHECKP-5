{
 "cells": [
  {
   "cell_type": "code",
   "execution_count": 14,
   "id": "bed941c3",
   "metadata": {},
   "outputs": [
    {
     "name": "stdout",
     "output_type": "stream",
     "text": [
      "(1, 2, 3)\n"
     ]
    }
   ],
   "source": [
    "class Point3D:\n",
    "    def __init__ (self, x, y, z):\n",
    "        self.x = x\n",
    "        self.y = y\n",
    "        self.z = z\n",
    "    def point(self):\n",
    "        return \"(%d, %d, %d)\" % ( self.x, self.y, self.z )\n",
    "point = Point3D (1,2,3)\n",
    "print(point.point())"
   ]
  },
  {
   "cell_type": "code",
   "execution_count": 27,
   "id": "db62f08e",
   "metadata": {},
   "outputs": [
    {
     "name": "stdout",
     "output_type": "stream",
     "text": [
      "120\n",
      "44\n"
     ]
    }
   ],
   "source": [
    "class rectangle : \n",
    "    def __init__ (self, longueur, largeur ):\n",
    "        self.longueur= longueur\n",
    "        self.largeur= largeur \n",
    "    def air (self):\n",
    "        x= self.longueur * self.largeur\n",
    "        return x \n",
    "    def perimetre (self) :\n",
    "        y= ((self.longueur+ self.largeur)*2)\n",
    "        return y \n",
    "newrectangle = rectangle (12, 10) \n",
    "print (newrectangle.air ())\n",
    "print (newrectangle.perimetre()) "
   ]
  },
  {
   "cell_type": "code",
   "execution_count": 32,
   "id": "81a20109",
   "metadata": {},
   "outputs": [
    {
     "name": "stdout",
     "output_type": "stream",
     "text": [
      " entrer radius of circle9\n",
      "254.46900494077323\n",
      "56.548667764616276\n"
     ]
    }
   ],
   "source": [
    "import math\n",
    "class circle :\n",
    "    def __init__ (self, radius):\n",
    "        self.radius= radius \n",
    "    def area (self):\n",
    "        return math.pi*(self.radius**2)\n",
    "    def perimeter (self):\n",
    "        return 2*math.pi*self.radius \n",
    "r= int (input(\" entrer radius of circle\"))\n",
    "obj = circle(r)\n",
    "print (obj.area ())\n",
    "print (obj.perimeter())"
   ]
  },
  {
   "cell_type": "code",
   "execution_count": null,
   "id": "399206db",
   "metadata": {},
   "outputs": [],
   "source": []
  },
  {
   "cell_type": "code",
   "execution_count": null,
   "id": "d89e602b",
   "metadata": {},
   "outputs": [],
   "source": []
  }
 ],
 "metadata": {
  "kernelspec": {
   "display_name": "Python 3",
   "language": "python",
   "name": "python3"
  },
  "language_info": {
   "codemirror_mode": {
    "name": "ipython",
    "version": 3
   },
   "file_extension": ".py",
   "mimetype": "text/x-python",
   "name": "python",
   "nbconvert_exporter": "python",
   "pygments_lexer": "ipython3",
   "version": "3.8.8"
  }
 },
 "nbformat": 4,
 "nbformat_minor": 5
}
